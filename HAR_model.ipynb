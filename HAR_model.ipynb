{
 "cells": [
  {
   "cell_type": "markdown",
   "metadata": {},
   "source": [
    "# Introduction\n",
    "\n",
    "<h4> Dataset Description</h4>\n",
    "\n",
    "The dataset used in this project contains tri-axial accelerometer readings recorded from a smartphone during different activities (`Standing = 1, Walking = 2, Stairs Down = 3, Stairs Up = 4`). Each reading includes:\n",
    "- **X, Y, and Z coordinates**: Representing the acceleration in each of the three dimensions.\n",
    "- **Timestamp and UTC time**: Representing the time of reccording.\n",
    "\n",
    "The goal of this project is to classify these accelerometer readings into various activities based on the patterns observed in the data. The challenge lies in handling the class imbalance and extracting meaningful features from the raw accelerometer data to build an effective classification model.\n",
    "\n",
    "<h4>Project Objectives and Key Steps</h4>\n",
    "\n",
    "The primary objective is to develop a machine learning model capable of accurately predicting the activity label from accelerometer data. To achieve this, the project involves the following key steps:\n",
    "1. **Data Preprocessing**: Cleaning and organizing the data to ensure quality and consistency.\n",
    "2. **Feature Extraction**: Using techniques like Fourier Transform to derive features that capture the underlying patterns in the data.\n",
    "3. **Model Training and Evaluation**: Selecting appropriate machine learning algorithms, tuning their hyperparameters, and evaluating their performance using relevant metrics such as accuracy, precision, recall, and F1 score. In addition, the imbalance in activity classes also needs to be addressed, to ensure the model performs well across all categories.\n",
    "4. **Aplying the Model**: Applying the model to the test data and update the it with the outputed labels.\n",
    "\n",
    "---"
   ]
  },
  {
   "cell_type": "markdown",
   "metadata": {},
   "source": [
    "# Methods\n",
    "\n",
    "<h4>Data Preprocessing</h4>\n",
    "\n",
    "- Checked data for missing or corrupted values in the dataset.\n",
    "- Checked class balance.\n",
    "- Checked for incomplete sets of measurements.\n",
    "- Enriched data with acceleration magnitude, `m`.\n",
    "- Addressed `type` inconsistencies in the timestamp records.\n",
    "\n",
    "<h4>Feature Extraction</h4>\n",
    "\n",
    "- Applied the **Fourier Transform** to the accelerometer data to convert time-domain signals into frequency-domain features.\n",
    "- Applied **Power Spectral Density (PSD)** analysis using the **Welch's method** to estimate power distribution across frequencies for each axis.\n",
    "- Calculated autocorrelation for each X, Y, Z axes tp accpunt for signal periodicity.\n",
    "- Extracted first `N` peaks from the PSD, FFT, and autocorrelation data as part of the feature set.\n",
    "- Calculated statistical features for each axis: mean, standard deviation, minimum, maximum, median, and skewness.\n",
    "- Added maximum differences between axes (X-Y, X-Z, Y-Z) to capture dynamic relationships between the directions.\n",
    "- Derived angles between the magnitude (`m`) vector and the X, Y, Z axes for each window, averaged across window size to summarize orientation dynamics.\n",
    "\n",
    "<h4>Modeling Approach</h4>\n",
    "\n",
    "0. **Model Selection**:\n",
    "   - Evaluated multiple traditional machine learning models including Random Forest, Decision Tree, K-Nearest Neighbors, Logistic Regression, and Support Vector Machine.\n",
    "   - Used, primarily, a combination of precision, recall, and F1 score to select the best model.\n",
    "   - Chose Random Forest model based on its far superior performance metrics, compared with the other models, despite being one of the less consistent accros folds.\n",
    "\n",
    "1. **Class Imbalance Handling**:\n",
    "   - Calculated **class weights** to account for imbalanced activity classes, which were applied during model training and selection to prevent bias towards the majority class.\n",
    "   - Used **SMOTE (Synthetic Minority Over-sampling Technique)** to oversample minority classes.\n",
    "   - Used **Stratified K-Fold** in cross-validation to maintain the class distribution across training and validation splits.\n",
    "\n",
    "2. **Hyperparameter Tuning**:\n",
    "   - Employed **Grid Search** with **Cross-validation** to find the optimal hyperparameters for the selected model.\n",
    "\n",
    "3. **Pipeline and Evaluation**:\n",
    "   - Implemented a pipeline to standardize the data and performed **PCA** for dimensionality reduction and potential ovefitting mitigation.\n",
    "   - Evaluated the model using **Cross-validation** to assess performance on the test set refitting on the **F1 score** as the primary metric.\n",
    "\n",
    "---"
   ]
  },
  {
   "cell_type": "markdown",
   "metadata": {},
   "source": [
    "## Preamble\n",
    "\n",
    "* Imports needed libraries and functions.\n",
    "* Starts the timer to track the notebook's total runing time."
   ]
  },
  {
   "cell_type": "code",
   "execution_count": 56,
   "metadata": {},
   "outputs": [],
   "source": [
    "import numpy as np\n",
    "import pandas as pd\n",
    "import matplotlib.pyplot as plt\n",
    "import time"
   ]
  },
  {
   "cell_type": "code",
   "execution_count": 57,
   "metadata": {},
   "outputs": [],
   "source": [
    "from collections import Counter\n",
    "from scipy.fft import fft\n",
    "from scipy.signal import welch\n",
    "from scipy.stats import skew\n",
    "from sklearn.model_selection import cross_validate, cross_val_predict, StratifiedKFold, GridSearchCV\n",
    "from sklearn.preprocessing import MaxAbsScaler, label_binarize\n",
    "from imblearn.pipeline import Pipeline as ImbPipeline\n",
    "from imblearn.over_sampling import SMOTE\n",
    "from sklearn.ensemble import RandomForestClassifier\n",
    "from sklearn.tree import DecisionTreeClassifier\n",
    "from sklearn.neighbors import KNeighborsClassifier\n",
    "from sklearn.linear_model import LogisticRegression\n",
    "from sklearn.svm import SVC\n",
    "from sklearn.utils.class_weight import compute_class_weight\n",
    "from sklearn.metrics import make_scorer, accuracy_score, precision_score, recall_score, f1_score, confusion_matrix, ConfusionMatrixDisplay, roc_curve, auc\n",
    "from sklearn.decomposition import PCA\n",
    "from sklearn.multiclass import OneVsRestClassifier"
   ]
  },
  {
   "cell_type": "code",
   "execution_count": 58,
   "metadata": {},
   "outputs": [],
   "source": [
    "# Starting the timer to track total notebook's runtime.\n",
    "start_time = time.time()"
   ]
  },
  {
   "cell_type": "markdown",
   "metadata": {},
   "source": [
    "## Data Preprocessing\n",
    "\n",
    "* Load tri-axial accelerometer train and test files.\n",
    "* Check loaded datasets for data quality and potential issues."
   ]
  },
  {
   "cell_type": "markdown",
   "metadata": {},
   "source": [
    "### Loading data"
   ]
  },
  {
   "cell_type": "markdown",
   "metadata": {},
   "source": [
    "Importing data from `.csv` files stored locally in the project folder."
   ]
  },
  {
   "cell_type": "code",
   "execution_count": 59,
   "metadata": {},
   "outputs": [],
   "source": [
    "train_data = pd.read_csv('Input datasets/train_time_series.csv')\n",
    "train_labels = pd.read_csv('Input datasets/train_labels.csv')\n",
    "\n",
    "test_data = pd.read_csv('Input datasets/test_time_series.csv')\n",
    "test_labels = pd.read_csv('Input datasets/test_labels.csv')"
   ]
  },
  {
   "cell_type": "markdown",
   "metadata": {},
   "source": [
    "Previewing datasets."
   ]
  },
  {
   "cell_type": "code",
   "execution_count": 60,
   "metadata": {},
   "outputs": [
    {
     "data": {
      "text/html": [
       "<div>\n",
       "<style scoped>\n",
       "    .dataframe tbody tr th:only-of-type {\n",
       "        vertical-align: middle;\n",
       "    }\n",
       "\n",
       "    .dataframe tbody tr th {\n",
       "        vertical-align: top;\n",
       "    }\n",
       "\n",
       "    .dataframe thead th {\n",
       "        text-align: right;\n",
       "    }\n",
       "</style>\n",
       "<table border=\"1\" class=\"dataframe\">\n",
       "  <thead>\n",
       "    <tr style=\"text-align: right;\">\n",
       "      <th></th>\n",
       "      <th>Unnamed: 0</th>\n",
       "      <th>timestamp</th>\n",
       "      <th>UTC time</th>\n",
       "      <th>accuracy</th>\n",
       "      <th>x</th>\n",
       "      <th>y</th>\n",
       "      <th>z</th>\n",
       "    </tr>\n",
       "  </thead>\n",
       "  <tbody>\n",
       "    <tr>\n",
       "      <th>0</th>\n",
       "      <td>20586</td>\n",
       "      <td>1565109930787</td>\n",
       "      <td>2019-08-06T16:45:30.787</td>\n",
       "      <td>unknown</td>\n",
       "      <td>-0.006485</td>\n",
       "      <td>-0.934860</td>\n",
       "      <td>-0.069046</td>\n",
       "    </tr>\n",
       "    <tr>\n",
       "      <th>1</th>\n",
       "      <td>20587</td>\n",
       "      <td>1565109930887</td>\n",
       "      <td>2019-08-06T16:45:30.887</td>\n",
       "      <td>unknown</td>\n",
       "      <td>-0.066467</td>\n",
       "      <td>-1.015442</td>\n",
       "      <td>0.089554</td>\n",
       "    </tr>\n",
       "  </tbody>\n",
       "</table>\n",
       "</div>"
      ],
      "text/plain": [
       "   Unnamed: 0      timestamp                 UTC time accuracy         x  \\\n",
       "0       20586  1565109930787  2019-08-06T16:45:30.787  unknown -0.006485   \n",
       "1       20587  1565109930887  2019-08-06T16:45:30.887  unknown -0.066467   \n",
       "\n",
       "          y         z  \n",
       "0 -0.934860 -0.069046  \n",
       "1 -1.015442  0.089554  "
      ]
     },
     "execution_count": 60,
     "metadata": {},
     "output_type": "execute_result"
    }
   ],
   "source": [
    "train_data.head(2)"
   ]
  },
  {
   "cell_type": "code",
   "execution_count": 61,
   "metadata": {},
   "outputs": [
    {
     "data": {
      "text/html": [
       "<div>\n",
       "<style scoped>\n",
       "    .dataframe tbody tr th:only-of-type {\n",
       "        vertical-align: middle;\n",
       "    }\n",
       "\n",
       "    .dataframe tbody tr th {\n",
       "        vertical-align: top;\n",
       "    }\n",
       "\n",
       "    .dataframe thead th {\n",
       "        text-align: right;\n",
       "    }\n",
       "</style>\n",
       "<table border=\"1\" class=\"dataframe\">\n",
       "  <thead>\n",
       "    <tr style=\"text-align: right;\">\n",
       "      <th></th>\n",
       "      <th>Unnamed: 0</th>\n",
       "      <th>timestamp</th>\n",
       "      <th>UTC time</th>\n",
       "      <th>label</th>\n",
       "    </tr>\n",
       "  </thead>\n",
       "  <tbody>\n",
       "    <tr>\n",
       "      <th>0</th>\n",
       "      <td>20589</td>\n",
       "      <td>1565109931087</td>\n",
       "      <td>2019-08-06T16:45:31.087</td>\n",
       "      <td>1</td>\n",
       "    </tr>\n",
       "    <tr>\n",
       "      <th>1</th>\n",
       "      <td>20599</td>\n",
       "      <td>1565109932090</td>\n",
       "      <td>2019-08-06T16:45:32.090</td>\n",
       "      <td>1</td>\n",
       "    </tr>\n",
       "  </tbody>\n",
       "</table>\n",
       "</div>"
      ],
      "text/plain": [
       "   Unnamed: 0      timestamp                 UTC time  label\n",
       "0       20589  1565109931087  2019-08-06T16:45:31.087      1\n",
       "1       20599  1565109932090  2019-08-06T16:45:32.090      1"
      ]
     },
     "execution_count": 61,
     "metadata": {},
     "output_type": "execute_result"
    }
   ],
   "source": [
    "train_labels.head(2)"
   ]
  },
  {
   "cell_type": "code",
   "execution_count": 62,
   "metadata": {},
   "outputs": [
    {
     "data": {
      "text/html": [
       "<div>\n",
       "<style scoped>\n",
       "    .dataframe tbody tr th:only-of-type {\n",
       "        vertical-align: middle;\n",
       "    }\n",
       "\n",
       "    .dataframe tbody tr th {\n",
       "        vertical-align: top;\n",
       "    }\n",
       "\n",
       "    .dataframe thead th {\n",
       "        text-align: right;\n",
       "    }\n",
       "</style>\n",
       "<table border=\"1\" class=\"dataframe\">\n",
       "  <thead>\n",
       "    <tr style=\"text-align: right;\">\n",
       "      <th></th>\n",
       "      <th>Unnamed: 0</th>\n",
       "      <th>timestamp</th>\n",
       "      <th>UTC time</th>\n",
       "      <th>accuracy</th>\n",
       "      <th>x</th>\n",
       "      <th>y</th>\n",
       "      <th>z</th>\n",
       "    </tr>\n",
       "  </thead>\n",
       "  <tbody>\n",
       "    <tr>\n",
       "      <th>0</th>\n",
       "      <td>24330</td>\n",
       "      <td>1565110306139</td>\n",
       "      <td>2019-08-06T16:51:46.139</td>\n",
       "      <td>unknown</td>\n",
       "      <td>0.034286</td>\n",
       "      <td>-1.504456</td>\n",
       "      <td>0.157623</td>\n",
       "    </tr>\n",
       "    <tr>\n",
       "      <th>1</th>\n",
       "      <td>24331</td>\n",
       "      <td>1565110306239</td>\n",
       "      <td>2019-08-06T16:51:46.239</td>\n",
       "      <td>unknown</td>\n",
       "      <td>0.409164</td>\n",
       "      <td>-1.038544</td>\n",
       "      <td>0.030975</td>\n",
       "    </tr>\n",
       "  </tbody>\n",
       "</table>\n",
       "</div>"
      ],
      "text/plain": [
       "   Unnamed: 0      timestamp                 UTC time accuracy         x  \\\n",
       "0       24330  1565110306139  2019-08-06T16:51:46.139  unknown  0.034286   \n",
       "1       24331  1565110306239  2019-08-06T16:51:46.239  unknown  0.409164   \n",
       "\n",
       "          y         z  \n",
       "0 -1.504456  0.157623  \n",
       "1 -1.038544  0.030975  "
      ]
     },
     "execution_count": 62,
     "metadata": {},
     "output_type": "execute_result"
    }
   ],
   "source": [
    "test_data.head(2)"
   ]
  },
  {
   "cell_type": "code",
   "execution_count": 63,
   "metadata": {},
   "outputs": [
    {
     "data": {
      "text/html": [
       "<div>\n",
       "<style scoped>\n",
       "    .dataframe tbody tr th:only-of-type {\n",
       "        vertical-align: middle;\n",
       "    }\n",
       "\n",
       "    .dataframe tbody tr th {\n",
       "        vertical-align: top;\n",
       "    }\n",
       "\n",
       "    .dataframe thead th {\n",
       "        text-align: right;\n",
       "    }\n",
       "</style>\n",
       "<table border=\"1\" class=\"dataframe\">\n",
       "  <thead>\n",
       "    <tr style=\"text-align: right;\">\n",
       "      <th></th>\n",
       "      <th>Unnamed: 0</th>\n",
       "      <th>timestamp</th>\n",
       "      <th>UTC time</th>\n",
       "      <th>label</th>\n",
       "    </tr>\n",
       "  </thead>\n",
       "  <tbody>\n",
       "    <tr>\n",
       "      <th>0</th>\n",
       "      <td>24339</td>\n",
       "      <td>1565110307041</td>\n",
       "      <td>2019-08-06T16:51:47.041</td>\n",
       "      <td>NaN</td>\n",
       "    </tr>\n",
       "    <tr>\n",
       "      <th>1</th>\n",
       "      <td>24349</td>\n",
       "      <td>1565110308043</td>\n",
       "      <td>2019-08-06T16:51:48.043</td>\n",
       "      <td>NaN</td>\n",
       "    </tr>\n",
       "  </tbody>\n",
       "</table>\n",
       "</div>"
      ],
      "text/plain": [
       "   Unnamed: 0      timestamp                 UTC time  label\n",
       "0       24339  1565110307041  2019-08-06T16:51:47.041    NaN\n",
       "1       24349  1565110308043  2019-08-06T16:51:48.043    NaN"
      ]
     },
     "execution_count": 63,
     "metadata": {},
     "output_type": "execute_result"
    }
   ],
   "source": [
    "test_labels.head(2)"
   ]
  },
  {
   "cell_type": "markdown",
   "metadata": {},
   "source": [
    "Preview datasets' shape."
   ]
  },
  {
   "cell_type": "code",
   "execution_count": 64,
   "metadata": {},
   "outputs": [
    {
     "name": "stdout",
     "output_type": "stream",
     "text": [
      "Train data's shape: (3744, 7)\n",
      "Train label's shape: (375, 4)\n",
      "Test data's shape: (1250, 7)\n",
      "Test label's shape: (125, 4)\n"
     ]
    }
   ],
   "source": [
    "shapes = f'Train data\\'s shape: {train_data.shape}\\nTrain label\\'s shape: {train_labels.shape}\\nTest data\\'s shape: {test_data.shape}\\nTest label\\'s shape: {test_labels.shape}'\n",
    "print(shapes)"
   ]
  },
  {
   "cell_type": "markdown",
   "metadata": {},
   "source": [
    "### Data checks"
   ]
  },
  {
   "cell_type": "markdown",
   "metadata": {},
   "source": [
    "Checking for any null values."
   ]
  },
  {
   "cell_type": "code",
   "execution_count": 65,
   "metadata": {},
   "outputs": [
    {
     "data": {
      "text/plain": [
       "(Empty DataFrame\n",
       " Columns: [Unnamed: 0, timestamp, UTC time, accuracy, x, y, z]\n",
       " Index: [],\n",
       " Empty DataFrame\n",
       " Columns: [Unnamed: 0, timestamp, UTC time, label]\n",
       " Index: [],\n",
       " Empty DataFrame\n",
       " Columns: [Unnamed: 0, timestamp, UTC time, accuracy, x, y, z]\n",
       " Index: [])"
      ]
     },
     "execution_count": 65,
     "metadata": {},
     "output_type": "execute_result"
    }
   ],
   "source": [
    "def check_nulls(df):\n",
    "    null_rows = df.isnull().any(axis=1)\n",
    "    return df[null_rows]\n",
    "\n",
    "check_nulls(train_data), check_nulls(train_labels), check_nulls(test_data)"
   ]
  },
  {
   "cell_type": "markdown",
   "metadata": {},
   "source": [
    "Check for label balance."
   ]
  },
  {
   "cell_type": "code",
   "execution_count": 66,
   "metadata": {},
   "outputs": [
    {
     "data": {
      "text/html": [
       "<div>\n",
       "<style scoped>\n",
       "    .dataframe tbody tr th:only-of-type {\n",
       "        vertical-align: middle;\n",
       "    }\n",
       "\n",
       "    .dataframe tbody tr th {\n",
       "        vertical-align: top;\n",
       "    }\n",
       "\n",
       "    .dataframe thead th {\n",
       "        text-align: right;\n",
       "    }\n",
       "</style>\n",
       "<table border=\"1\" class=\"dataframe\">\n",
       "  <thead>\n",
       "    <tr style=\"text-align: right;\">\n",
       "      <th></th>\n",
       "      <th>count</th>\n",
       "    </tr>\n",
       "  </thead>\n",
       "  <tbody>\n",
       "    <tr>\n",
       "      <th>1</th>\n",
       "      <td>27</td>\n",
       "    </tr>\n",
       "    <tr>\n",
       "      <th>2</th>\n",
       "      <td>213</td>\n",
       "    </tr>\n",
       "    <tr>\n",
       "      <th>4</th>\n",
       "      <td>47</td>\n",
       "    </tr>\n",
       "    <tr>\n",
       "      <th>3</th>\n",
       "      <td>88</td>\n",
       "    </tr>\n",
       "  </tbody>\n",
       "</table>\n",
       "</div>"
      ],
      "text/plain": [
       "   count\n",
       "1     27\n",
       "2    213\n",
       "4     47\n",
       "3     88"
      ]
     },
     "execution_count": 66,
     "metadata": {},
     "output_type": "execute_result"
    }
   ],
   "source": [
    "pd.DataFrame.from_dict(Counter(train_labels['label']), orient='index', columns=['count'])"
   ]
  },
  {
   "cell_type": "markdown",
   "metadata": {},
   "source": [
    "### Data preparation"
   ]
  },
  {
   "cell_type": "markdown",
   "metadata": {},
   "source": [
    "There were 4 extra samples in the end of the training dataset which did not encompassed a full 10 sample measurement. Analogously, the train labels contained one \"extra\" label, matching those 4 measurements.\n",
    "\n",
    "As such a cleaning is performed on this \"incomplete\" data from the train datasets."
   ]
  },
  {
   "cell_type": "code",
   "execution_count": 67,
   "metadata": {},
   "outputs": [
    {
     "data": {
      "text/plain": [
       "((3740, 7), (374, 4))"
      ]
     },
     "execution_count": 67,
     "metadata": {},
     "output_type": "execute_result"
    }
   ],
   "source": [
    "train_data = train_data[:-4]\n",
    "train_labels = train_labels[:-1]\n",
    "\n",
    "train_data.shape, train_labels.shape"
   ]
  },
  {
   "cell_type": "markdown",
   "metadata": {},
   "source": [
    "Calculating the magnitude of each acceleration vector."
   ]
  },
  {
   "cell_type": "code",
   "execution_count": 68,
   "metadata": {},
   "outputs": [],
   "source": [
    "def magnitude(df):\n",
    "    return np.sqrt(df.x**2 + df.y**2 + df.z**2)\n",
    "\n",
    "train_data['m'] = magnitude(train_data)\n",
    "test_data['m'] = magnitude(test_data)"
   ]
  },
  {
   "cell_type": "markdown",
   "metadata": {},
   "source": [
    "Checking on timestamp columns' data type."
   ]
  },
  {
   "cell_type": "code",
   "execution_count": 69,
   "metadata": {},
   "outputs": [
    {
     "name": "stdout",
     "output_type": "stream",
     "text": [
      "Origital datatype of UTC time: <class 'str'>\n",
      "Origital datatype of UTC time: <class 'str'>\n",
      "Origital datatype of UTC time: <class 'str'>\n",
      "Origital datatype of UTC time: <class 'str'>\n"
     ]
    }
   ],
   "source": [
    "print('Origital datatype of UTC time:', type(train_data['UTC time'].iloc[1]))\n",
    "print('Origital datatype of UTC time:', type(train_labels['UTC time'].iloc[1]))\n",
    "print('Origital datatype of UTC time:', type(test_data['UTC time'].iloc[1]))\n",
    "print('Origital datatype of UTC time:', type(test_labels['UTC time'].iloc[1]))"
   ]
  },
  {
   "cell_type": "markdown",
   "metadata": {},
   "source": [
    "Convert timestap data to time type."
   ]
  },
  {
   "cell_type": "code",
   "execution_count": 70,
   "metadata": {},
   "outputs": [
    {
     "name": "stdout",
     "output_type": "stream",
     "text": [
      "Origital datatype of UTC time: <class 'pandas._libs.tslibs.timestamps.Timestamp'>\n",
      "Origital datatype of UTC time: <class 'pandas._libs.tslibs.timestamps.Timestamp'>\n",
      "Origital datatype of UTC time: <class 'pandas._libs.tslibs.timestamps.Timestamp'>\n",
      "Origital datatype of UTC time: <class 'pandas._libs.tslibs.timestamps.Timestamp'>\n"
     ]
    }
   ],
   "source": [
    "train_data['UTC time'] =  pd.to_datetime(train_data['UTC time'], format='%Y-%m-%dT%H:%M:%S.%f')\n",
    "train_labels['UTC time'] =  pd.to_datetime(train_labels['UTC time'], format='%Y-%m-%dT%H:%M:%S.%f')\n",
    "test_data['UTC time'] =  pd.to_datetime(test_data['UTC time'], format='%Y-%m-%dT%H:%M:%S.%f')\n",
    "test_labels['UTC time'] =  pd.to_datetime(test_labels['UTC time'], format='%Y-%m-%dT%H:%M:%S.%f')\n",
    "\n",
    "print('Origital datatype of UTC time:', type(train_data['UTC time'].iloc[1]))\n",
    "print('Origital datatype of UTC time:', type(train_labels['UTC time'].iloc[1]))\n",
    "print('Origital datatype of UTC time:', type(test_data['UTC time'].iloc[1]))\n",
    "print('Origital datatype of UTC time:', type(test_labels['UTC time'].iloc[1]))"
   ]
  },
  {
   "cell_type": "markdown",
   "metadata": {},
   "source": [
    "## Feature Extraction\n",
    "\n",
    "* Extract relevant features from the raw accelerometer data.\n",
    "\n",
    "Given the periodic and repetitive nature of the motion data, analyzing the frequency domain provides valuable insights that might not be as clear in the time domain. To capture these patterns effectively, features are extracted using the Fourier Transform and Power Spectral Density (PSD) to represent frequency behavior, along with autocorrelation to capture periodicity in the time domain. These techniques are applied within time windows to summarize both frequency and time-domain behavior."
   ]
  },
  {
   "cell_type": "code",
   "execution_count": 71,
   "metadata": {},
   "outputs": [],
   "source": [
    "# PSD calculation using Welch's method\n",
    "def calculate_psd(window_data, fs, window_size):\n",
    "    \"\"\"\n",
    "    Compute the Power Spectral Density (PSD) using Welch's method.\n",
    "    Returns the frequencies and PSD values for each axis.\n",
    "    \"\"\"\n",
    "    # Set nperseg to window_size to match the number of data points in the window\n",
    "    freqs, psd_x = welch(window_data['x'], fs=fs, nperseg=window_size)\n",
    "    _, psd_y = welch(window_data['y'], fs=fs, nperseg=window_size)\n",
    "    _, psd_z = welch(window_data['z'], fs=fs, nperseg=window_size)\n",
    "    _, psd_m = welch(window_data['m'], fs=fs, nperseg=window_size)\n",
    "    \n",
    "    return freqs, psd_x, psd_y, psd_z, psd_m\n",
    "\n",
    "\n",
    "# Feature extraction combining PSD, FFT, and Autocorrelation\n",
    "def extract_features(data, window_size=10, sampling_rate=10, num_peaks=3):\n",
    "    features = []\n",
    "\n",
    "    for i in range(0, len(data) - window_size + 1, window_size):\n",
    "        window_data = data.iloc[i:i + window_size]\n",
    "\n",
    "        # Ensure the window size is valid\n",
    "        if len(window_data) < window_size:\n",
    "            continue\n",
    "\n",
    "        # Calculate PSD\n",
    "        _, psd_x, psd_y, psd_z, psd_m = calculate_psd(window_data, sampling_rate, window_size)\n",
    "\n",
    "        # FFT with ascontiguousarray\n",
    "        fft_x = np.abs(fft(np.ascontiguousarray(window_data['x'].to_numpy())))[:window_size // 2]\n",
    "        fft_y = np.abs(fft(np.ascontiguousarray(window_data['y'].to_numpy())))[:window_size // 2]\n",
    "        fft_z = np.abs(fft(np.ascontiguousarray(window_data['z'].to_numpy())))[:window_size // 2]\n",
    "        fft_m = np.abs(fft(np.ascontiguousarray(window_data['m'].to_numpy())))[:window_size // 2]\n",
    "\n",
    "        # Autocorrelation\n",
    "        autocorr_x = np.correlate(window_data['x'], window_data['x'], mode='full')[window_size-1:][:num_peaks]\n",
    "        autocorr_y = np.correlate(window_data['y'], window_data['y'], mode='full')[window_size-1:][:num_peaks]\n",
    "        autocorr_z = np.correlate(window_data['z'], window_data['z'], mode='full')[window_size-1:][:num_peaks]\n",
    "        autocorr_m = np.correlate(window_data['m'], window_data['m'], mode='full')[window_size-1:][:num_peaks]\n",
    "\n",
    "        # Prepare the feature vector\n",
    "        feature_vector = [window_data['UTC time'].median()]\n",
    "\n",
    "        # PSD Features\n",
    "        feature_vector.extend(psd_x[:num_peaks])\n",
    "        feature_vector.extend(psd_y[:num_peaks])\n",
    "        feature_vector.extend(psd_z[:num_peaks])\n",
    "        feature_vector.extend(psd_m[:num_peaks])\n",
    "\n",
    "        # FFT Features\n",
    "        feature_vector.extend(fft_x[:num_peaks])\n",
    "        feature_vector.extend(fft_y[:num_peaks])\n",
    "        feature_vector.extend(fft_z[:num_peaks])\n",
    "        feature_vector.extend(fft_m[:num_peaks])\n",
    "\n",
    "        # Autocorrelation Features\n",
    "        feature_vector.extend(autocorr_x[:num_peaks])\n",
    "        feature_vector.extend(autocorr_y[:num_peaks])\n",
    "        feature_vector.extend(autocorr_z[:num_peaks])\n",
    "        feature_vector.extend(autocorr_m[:num_peaks])\n",
    "\n",
    "        # Statistical Features (mean, std, min, max, median, skewness)\n",
    "        for axis in ['x', 'y', 'z', 'm']:\n",
    "            axis_data = window_data[axis]\n",
    "            mean_val = np.mean(axis_data)\n",
    "            std_val = np.std(axis_data)\n",
    "            min_val = np.min(axis_data)\n",
    "            max_val = np.max(axis_data)\n",
    "            median_val = np.median(axis_data)\n",
    "            skewness_val = skew(axis_data)\n",
    "\n",
    "            # Add these stats to the feature vector\n",
    "            feature_vector.extend([mean_val, std_val, min_val, max_val, median_val, skewness_val])\n",
    "\n",
    "        # Max difference between axes for the entire window\n",
    "        max_diff_xy = np.max(np.abs(window_data['x'] - window_data['y']))  # max difference between x and y\n",
    "        max_diff_xz = np.max(np.abs(window_data['x'] - window_data['z']))  # max difference between x and z\n",
    "        max_diff_yz = np.max(np.abs(window_data['y'] - window_data['z']))  # max difference between y and z\n",
    "\n",
    "        # Add the three max differences to the feature vector\n",
    "        feature_vector.extend([max_diff_xy, max_diff_xz, max_diff_yz])\n",
    "\n",
    "        # Angles of the magnitude vector (m) with respect to x, y, and z axes (based on averaged values)\n",
    "        avg_x = window_data['x'].mean()\n",
    "        avg_y = window_data['y'].mean()\n",
    "        avg_z = window_data['z'].mean()\n",
    "        avg_m = window_data['m'].mean()  # The magnitude is already precomputed as column 'm'\n",
    "\n",
    "        # Avoid division by zero when magnitude is zero\n",
    "        if avg_m != 0:\n",
    "            angle_x = np.arccos(avg_x / avg_m)  # Angle relative to x-axis\n",
    "            angle_y = np.arccos(avg_y / avg_m)  # Angle relative to y-axis\n",
    "            angle_z = np.arccos(avg_z / avg_m)  # Angle relative to z-axis\n",
    "        else:\n",
    "            angle_x = angle_y = angle_z = 0  # Set to 0 when magnitude is zero\n",
    "\n",
    "        # Add these angles (one set per window) to the feature vector\n",
    "        feature_vector.extend([angle_x, angle_y, angle_z])\n",
    "\n",
    "        features.append(feature_vector)\n",
    "\n",
    "    # Create DataFrame with features\n",
    "    feature_columns = ['UTC time'] + \\\n",
    "                      [f'{axis}_{feature_type}_{i + 1}' for feature_type in ['psd', 'fft', 'autocorr']\n",
    "                       for axis in ['x', 'y', 'z', 'm'] for i in range(num_peaks)] + \\\n",
    "                      [f'{axis}_{stat}' for axis in ['x', 'y', 'z', 'm'] for stat in ['mean', 'std', 'min', 'max', 'median', 'skew']] + \\\n",
    "                      ['max_diff_xy', 'max_diff_xz', 'max_diff_yz'] + \\\n",
    "                      ['angle_x', 'angle_y', 'angle_z']\n",
    "\n",
    "    feature_df = pd.DataFrame(features, columns=feature_columns)\n",
    "\n",
    "    return feature_df"
   ]
  },
  {
   "cell_type": "markdown",
   "metadata": {},
   "source": [
    "Calculating sample frequency of each window for better accuracy when applying Fourier transforms."
   ]
  },
  {
   "cell_type": "code",
   "execution_count": 72,
   "metadata": {},
   "outputs": [
    {
     "name": "stdout",
     "output_type": "stream",
     "text": [
      "Train data: \n",
      "Average time per sample - 0.10 seconds\n",
      "Frequency per sample - 9.98 Hz\n",
      "\n",
      "Test data: \n",
      "Average time per sample - 0.10 seconds\n",
      "Frequency per sample - 9.98 Hz\n"
     ]
    }
   ],
   "source": [
    "# Calculate the mean time difference between consecutive 'UTC time' entries in the train_data DataFrame.\n",
    "# This is essentially computing the average time interval between each sample in the training data.\n",
    "T_train_data = np.mean([\n",
    "    train_data['UTC time'].iloc[i+1] - train_data['UTC time'].iloc[i]  # Difference between consecutive 'UTC time' values\n",
    "    for i in range(len(train_data['UTC time']) - 1)  # Iterate over the range up to the second-to-last index\n",
    "])\n",
    "\n",
    "# Calculate the overall sampling frequency (rate) of the training data.\n",
    "# This is computed as the total number of samples divided by the total time span of the dataset in seconds.\n",
    "f_train_data = len(train_data['UTC time']) / (  # Total number of samples\n",
    "    train_data['UTC time'].iloc[-1] - train_data['UTC time'].iloc[0]  # Total duration between the first and last 'UTC time'\n",
    ").total_seconds()  # Convert the total duration from a timedelta object to seconds\n",
    "\n",
    "# Repeating the process for test data.\n",
    "T_test_data = np.mean([test_data['UTC time'].iloc[i+1]-test_data['UTC time'].iloc[i] for i in range(len(test_data['UTC time'])-1)])\n",
    "f_test_data = len(test_data['UTC time'])/(test_data['UTC time'].iloc[-1]-test_data['UTC time'].iloc[0]).total_seconds()\n",
    "\n",
    "print('Train data: \\nAverage time per sample - {:.2f} seconds\\nFrequency per sample - {:.2f} Hz'.\\\n",
    "      format(T_train_data.total_seconds(), f_train_data))\n",
    "\n",
    "print('\\nTest data: \\nAverage time per sample - {:.2f} seconds\\nFrequency per sample - {:.2f} Hz'.\\\n",
    "      format(T_test_data.total_seconds(), f_test_data))"
   ]
  },
  {
   "cell_type": "markdown",
   "metadata": {},
   "source": [
    "Extracting features for train and test data."
   ]
  },
  {
   "cell_type": "code",
   "execution_count": 73,
   "metadata": {},
   "outputs": [],
   "source": [
    "train_features = extract_features(train_data, window_size=10, sampling_rate=f_train_data, num_peaks=3)\n",
    "test_features = extract_features(test_data, window_size=10, sampling_rate=f_test_data, num_peaks=3)"
   ]
  },
  {
   "cell_type": "markdown",
   "metadata": {},
   "source": [
    "Checking datasets."
   ]
  },
  {
   "cell_type": "code",
   "execution_count": 74,
   "metadata": {},
   "outputs": [
    {
     "data": {
      "text/plain": [
       "((374, 67), (374, 4))"
      ]
     },
     "execution_count": 74,
     "metadata": {},
     "output_type": "execute_result"
    }
   ],
   "source": [
    "train_features.shape, train_labels.shape"
   ]
  },
  {
   "cell_type": "code",
   "execution_count": 75,
   "metadata": {},
   "outputs": [
    {
     "data": {
      "text/html": [
       "<div>\n",
       "<style scoped>\n",
       "    .dataframe tbody tr th:only-of-type {\n",
       "        vertical-align: middle;\n",
       "    }\n",
       "\n",
       "    .dataframe tbody tr th {\n",
       "        vertical-align: top;\n",
       "    }\n",
       "\n",
       "    .dataframe thead th {\n",
       "        text-align: right;\n",
       "    }\n",
       "</style>\n",
       "<table border=\"1\" class=\"dataframe\">\n",
       "  <thead>\n",
       "    <tr style=\"text-align: right;\">\n",
       "      <th></th>\n",
       "      <th>UTC time</th>\n",
       "      <th>x_psd_1</th>\n",
       "      <th>x_psd_2</th>\n",
       "      <th>x_psd_3</th>\n",
       "      <th>y_psd_1</th>\n",
       "      <th>y_psd_2</th>\n",
       "      <th>y_psd_3</th>\n",
       "      <th>z_psd_1</th>\n",
       "      <th>z_psd_2</th>\n",
       "      <th>z_psd_3</th>\n",
       "      <th>...</th>\n",
       "      <th>m_min</th>\n",
       "      <th>m_max</th>\n",
       "      <th>m_median</th>\n",
       "      <th>m_skew</th>\n",
       "      <th>max_diff_xy</th>\n",
       "      <th>max_diff_xz</th>\n",
       "      <th>max_diff_yz</th>\n",
       "      <th>angle_x</th>\n",
       "      <th>angle_y</th>\n",
       "      <th>angle_z</th>\n",
       "    </tr>\n",
       "  </thead>\n",
       "  <tbody>\n",
       "    <tr>\n",
       "      <th>0</th>\n",
       "      <td>2019-08-06 16:45:31.238000128</td>\n",
       "      <td>0.000002</td>\n",
       "      <td>0.000630</td>\n",
       "      <td>0.000819</td>\n",
       "      <td>8.365755e-05</td>\n",
       "      <td>0.000016</td>\n",
       "      <td>0.000229</td>\n",
       "      <td>0.000309</td>\n",
       "      <td>0.003106</td>\n",
       "      <td>0.000830</td>\n",
       "      <td>...</td>\n",
       "      <td>0.926455</td>\n",
       "      <td>1.084544</td>\n",
       "      <td>1.012277</td>\n",
       "      <td>-0.214702</td>\n",
       "      <td>1.086182</td>\n",
       "      <td>0.446732</td>\n",
       "      <td>1.329102</td>\n",
       "      <td>1.582293</td>\n",
       "      <td>2.933384</td>\n",
       "      <td>1.407109</td>\n",
       "    </tr>\n",
       "    <tr>\n",
       "      <th>1</th>\n",
       "      <td>2019-08-06 16:45:32.240000000</td>\n",
       "      <td>0.000191</td>\n",
       "      <td>0.001255</td>\n",
       "      <td>0.000174</td>\n",
       "      <td>6.460420e-05</td>\n",
       "      <td>0.000081</td>\n",
       "      <td>0.000534</td>\n",
       "      <td>0.001028</td>\n",
       "      <td>0.002813</td>\n",
       "      <td>0.000338</td>\n",
       "      <td>...</td>\n",
       "      <td>0.852482</td>\n",
       "      <td>1.208477</td>\n",
       "      <td>0.999367</td>\n",
       "      <td>0.864951</td>\n",
       "      <td>1.120316</td>\n",
       "      <td>0.296021</td>\n",
       "      <td>1.326370</td>\n",
       "      <td>1.551812</td>\n",
       "      <td>2.999282</td>\n",
       "      <td>1.545429</td>\n",
       "    </tr>\n",
       "    <tr>\n",
       "      <th>2</th>\n",
       "      <td>2019-08-06 16:45:33.241999872</td>\n",
       "      <td>0.000090</td>\n",
       "      <td>0.002452</td>\n",
       "      <td>0.001602</td>\n",
       "      <td>2.293975e-07</td>\n",
       "      <td>0.000053</td>\n",
       "      <td>0.000049</td>\n",
       "      <td>0.000138</td>\n",
       "      <td>0.000467</td>\n",
       "      <td>0.000483</td>\n",
       "      <td>...</td>\n",
       "      <td>0.998647</td>\n",
       "      <td>1.109570</td>\n",
       "      <td>1.015683</td>\n",
       "      <td>1.837489</td>\n",
       "      <td>1.159042</td>\n",
       "      <td>0.223953</td>\n",
       "      <td>1.285355</td>\n",
       "      <td>1.507849</td>\n",
       "      <td>3.022680</td>\n",
       "      <td>1.570346</td>\n",
       "    </tr>\n",
       "    <tr>\n",
       "      <th>3</th>\n",
       "      <td>2019-08-06 16:45:34.244499968</td>\n",
       "      <td>0.000622</td>\n",
       "      <td>0.002272</td>\n",
       "      <td>0.005540</td>\n",
       "      <td>4.517122e-04</td>\n",
       "      <td>0.000510</td>\n",
       "      <td>0.000105</td>\n",
       "      <td>0.000018</td>\n",
       "      <td>0.001073</td>\n",
       "      <td>0.000057</td>\n",
       "      <td>...</td>\n",
       "      <td>0.884094</td>\n",
       "      <td>1.251372</td>\n",
       "      <td>1.005829</td>\n",
       "      <td>1.054030</td>\n",
       "      <td>1.253891</td>\n",
       "      <td>0.403870</td>\n",
       "      <td>1.514175</td>\n",
       "      <td>1.577872</td>\n",
       "      <td>2.948316</td>\n",
       "      <td>1.415369</td>\n",
       "    </tr>\n",
       "    <tr>\n",
       "      <th>4</th>\n",
       "      <td>2019-08-06 16:45:35.247000064</td>\n",
       "      <td>0.000061</td>\n",
       "      <td>0.000129</td>\n",
       "      <td>0.000112</td>\n",
       "      <td>2.447842e-07</td>\n",
       "      <td>0.000005</td>\n",
       "      <td>0.000024</td>\n",
       "      <td>0.000139</td>\n",
       "      <td>0.000496</td>\n",
       "      <td>0.000232</td>\n",
       "      <td>...</td>\n",
       "      <td>0.988981</td>\n",
       "      <td>1.027750</td>\n",
       "      <td>1.006873</td>\n",
       "      <td>0.354247</td>\n",
       "      <td>1.095459</td>\n",
       "      <td>0.190109</td>\n",
       "      <td>1.043152</td>\n",
       "      <td>1.515390</td>\n",
       "      <td>3.053194</td>\n",
       "      <td>1.623098</td>\n",
       "    </tr>\n",
       "  </tbody>\n",
       "</table>\n",
       "<p>5 rows × 67 columns</p>\n",
       "</div>"
      ],
      "text/plain": [
       "                       UTC time   x_psd_1   x_psd_2   x_psd_3       y_psd_1  \\\n",
       "0 2019-08-06 16:45:31.238000128  0.000002  0.000630  0.000819  8.365755e-05   \n",
       "1 2019-08-06 16:45:32.240000000  0.000191  0.001255  0.000174  6.460420e-05   \n",
       "2 2019-08-06 16:45:33.241999872  0.000090  0.002452  0.001602  2.293975e-07   \n",
       "3 2019-08-06 16:45:34.244499968  0.000622  0.002272  0.005540  4.517122e-04   \n",
       "4 2019-08-06 16:45:35.247000064  0.000061  0.000129  0.000112  2.447842e-07   \n",
       "\n",
       "    y_psd_2   y_psd_3   z_psd_1   z_psd_2   z_psd_3  ...     m_min     m_max  \\\n",
       "0  0.000016  0.000229  0.000309  0.003106  0.000830  ...  0.926455  1.084544   \n",
       "1  0.000081  0.000534  0.001028  0.002813  0.000338  ...  0.852482  1.208477   \n",
       "2  0.000053  0.000049  0.000138  0.000467  0.000483  ...  0.998647  1.109570   \n",
       "3  0.000510  0.000105  0.000018  0.001073  0.000057  ...  0.884094  1.251372   \n",
       "4  0.000005  0.000024  0.000139  0.000496  0.000232  ...  0.988981  1.027750   \n",
       "\n",
       "   m_median    m_skew  max_diff_xy  max_diff_xz  max_diff_yz   angle_x  \\\n",
       "0  1.012277 -0.214702     1.086182     0.446732     1.329102  1.582293   \n",
       "1  0.999367  0.864951     1.120316     0.296021     1.326370  1.551812   \n",
       "2  1.015683  1.837489     1.159042     0.223953     1.285355  1.507849   \n",
       "3  1.005829  1.054030     1.253891     0.403870     1.514175  1.577872   \n",
       "4  1.006873  0.354247     1.095459     0.190109     1.043152  1.515390   \n",
       "\n",
       "    angle_y   angle_z  \n",
       "0  2.933384  1.407109  \n",
       "1  2.999282  1.545429  \n",
       "2  3.022680  1.570346  \n",
       "3  2.948316  1.415369  \n",
       "4  3.053194  1.623098  \n",
       "\n",
       "[5 rows x 67 columns]"
      ]
     },
     "execution_count": 75,
     "metadata": {},
     "output_type": "execute_result"
    }
   ],
   "source": [
    "train_features.head()"
   ]
  },
  {
   "cell_type": "markdown",
   "metadata": {},
   "source": [
    "Making sure that labels are assigned to the right features, by merging data on UTC time information. [^1] [^2]\n",
    "\n",
    "[^1]: Both train data and labels dataframes were in the same order, however this approach felt more rigorous.\n",
    "\n",
    "[^2]: By eyeballing the uploaded data it's easy to notice that each label is \"given\", about midway of the measured data. This way by mergin with the median UTC time of each window, I can be sure to have the labels on the right place."
   ]
  },
  {
   "cell_type": "code",
   "execution_count": 76,
   "metadata": {},
   "outputs": [
    {
     "data": {
      "text/html": [
       "<div>\n",
       "<style scoped>\n",
       "    .dataframe tbody tr th:only-of-type {\n",
       "        vertical-align: middle;\n",
       "    }\n",
       "\n",
       "    .dataframe tbody tr th {\n",
       "        vertical-align: top;\n",
       "    }\n",
       "\n",
       "    .dataframe thead th {\n",
       "        text-align: right;\n",
       "    }\n",
       "</style>\n",
       "<table border=\"1\" class=\"dataframe\">\n",
       "  <thead>\n",
       "    <tr style=\"text-align: right;\">\n",
       "      <th></th>\n",
       "      <th>UTC time</th>\n",
       "      <th>x_psd_1</th>\n",
       "      <th>x_psd_2</th>\n",
       "      <th>x_psd_3</th>\n",
       "      <th>y_psd_1</th>\n",
       "      <th>y_psd_2</th>\n",
       "      <th>y_psd_3</th>\n",
       "      <th>z_psd_1</th>\n",
       "      <th>z_psd_2</th>\n",
       "      <th>z_psd_3</th>\n",
       "      <th>...</th>\n",
       "      <th>m_max</th>\n",
       "      <th>m_median</th>\n",
       "      <th>m_skew</th>\n",
       "      <th>max_diff_xy</th>\n",
       "      <th>max_diff_xz</th>\n",
       "      <th>max_diff_yz</th>\n",
       "      <th>angle_x</th>\n",
       "      <th>angle_y</th>\n",
       "      <th>angle_z</th>\n",
       "      <th>label</th>\n",
       "    </tr>\n",
       "  </thead>\n",
       "  <tbody>\n",
       "    <tr>\n",
       "      <th>0</th>\n",
       "      <td>2019-08-06 16:45:31.238000128</td>\n",
       "      <td>0.000002</td>\n",
       "      <td>0.000630</td>\n",
       "      <td>0.000819</td>\n",
       "      <td>8.365755e-05</td>\n",
       "      <td>0.000016</td>\n",
       "      <td>0.000229</td>\n",
       "      <td>0.000309</td>\n",
       "      <td>0.003106</td>\n",
       "      <td>0.000830</td>\n",
       "      <td>...</td>\n",
       "      <td>1.084544</td>\n",
       "      <td>1.012277</td>\n",
       "      <td>-0.214702</td>\n",
       "      <td>1.086182</td>\n",
       "      <td>0.446732</td>\n",
       "      <td>1.329102</td>\n",
       "      <td>1.582293</td>\n",
       "      <td>2.933384</td>\n",
       "      <td>1.407109</td>\n",
       "      <td>1</td>\n",
       "    </tr>\n",
       "    <tr>\n",
       "      <th>1</th>\n",
       "      <td>2019-08-06 16:45:32.240000000</td>\n",
       "      <td>0.000191</td>\n",
       "      <td>0.001255</td>\n",
       "      <td>0.000174</td>\n",
       "      <td>6.460420e-05</td>\n",
       "      <td>0.000081</td>\n",
       "      <td>0.000534</td>\n",
       "      <td>0.001028</td>\n",
       "      <td>0.002813</td>\n",
       "      <td>0.000338</td>\n",
       "      <td>...</td>\n",
       "      <td>1.208477</td>\n",
       "      <td>0.999367</td>\n",
       "      <td>0.864951</td>\n",
       "      <td>1.120316</td>\n",
       "      <td>0.296021</td>\n",
       "      <td>1.326370</td>\n",
       "      <td>1.551812</td>\n",
       "      <td>2.999282</td>\n",
       "      <td>1.545429</td>\n",
       "      <td>1</td>\n",
       "    </tr>\n",
       "    <tr>\n",
       "      <th>2</th>\n",
       "      <td>2019-08-06 16:45:33.241999872</td>\n",
       "      <td>0.000090</td>\n",
       "      <td>0.002452</td>\n",
       "      <td>0.001602</td>\n",
       "      <td>2.293975e-07</td>\n",
       "      <td>0.000053</td>\n",
       "      <td>0.000049</td>\n",
       "      <td>0.000138</td>\n",
       "      <td>0.000467</td>\n",
       "      <td>0.000483</td>\n",
       "      <td>...</td>\n",
       "      <td>1.109570</td>\n",
       "      <td>1.015683</td>\n",
       "      <td>1.837489</td>\n",
       "      <td>1.159042</td>\n",
       "      <td>0.223953</td>\n",
       "      <td>1.285355</td>\n",
       "      <td>1.507849</td>\n",
       "      <td>3.022680</td>\n",
       "      <td>1.570346</td>\n",
       "      <td>1</td>\n",
       "    </tr>\n",
       "    <tr>\n",
       "      <th>3</th>\n",
       "      <td>2019-08-06 16:45:34.244499968</td>\n",
       "      <td>0.000622</td>\n",
       "      <td>0.002272</td>\n",
       "      <td>0.005540</td>\n",
       "      <td>4.517122e-04</td>\n",
       "      <td>0.000510</td>\n",
       "      <td>0.000105</td>\n",
       "      <td>0.000018</td>\n",
       "      <td>0.001073</td>\n",
       "      <td>0.000057</td>\n",
       "      <td>...</td>\n",
       "      <td>1.251372</td>\n",
       "      <td>1.005829</td>\n",
       "      <td>1.054030</td>\n",
       "      <td>1.253891</td>\n",
       "      <td>0.403870</td>\n",
       "      <td>1.514175</td>\n",
       "      <td>1.577872</td>\n",
       "      <td>2.948316</td>\n",
       "      <td>1.415369</td>\n",
       "      <td>1</td>\n",
       "    </tr>\n",
       "    <tr>\n",
       "      <th>4</th>\n",
       "      <td>2019-08-06 16:45:35.247000064</td>\n",
       "      <td>0.000061</td>\n",
       "      <td>0.000129</td>\n",
       "      <td>0.000112</td>\n",
       "      <td>2.447842e-07</td>\n",
       "      <td>0.000005</td>\n",
       "      <td>0.000024</td>\n",
       "      <td>0.000139</td>\n",
       "      <td>0.000496</td>\n",
       "      <td>0.000232</td>\n",
       "      <td>...</td>\n",
       "      <td>1.027750</td>\n",
       "      <td>1.006873</td>\n",
       "      <td>0.354247</td>\n",
       "      <td>1.095459</td>\n",
       "      <td>0.190109</td>\n",
       "      <td>1.043152</td>\n",
       "      <td>1.515390</td>\n",
       "      <td>3.053194</td>\n",
       "      <td>1.623098</td>\n",
       "      <td>1</td>\n",
       "    </tr>\n",
       "  </tbody>\n",
       "</table>\n",
       "<p>5 rows × 68 columns</p>\n",
       "</div>"
      ],
      "text/plain": [
       "                       UTC time   x_psd_1   x_psd_2   x_psd_3       y_psd_1  \\\n",
       "0 2019-08-06 16:45:31.238000128  0.000002  0.000630  0.000819  8.365755e-05   \n",
       "1 2019-08-06 16:45:32.240000000  0.000191  0.001255  0.000174  6.460420e-05   \n",
       "2 2019-08-06 16:45:33.241999872  0.000090  0.002452  0.001602  2.293975e-07   \n",
       "3 2019-08-06 16:45:34.244499968  0.000622  0.002272  0.005540  4.517122e-04   \n",
       "4 2019-08-06 16:45:35.247000064  0.000061  0.000129  0.000112  2.447842e-07   \n",
       "\n",
       "    y_psd_2   y_psd_3   z_psd_1   z_psd_2   z_psd_3  ...     m_max  m_median  \\\n",
       "0  0.000016  0.000229  0.000309  0.003106  0.000830  ...  1.084544  1.012277   \n",
       "1  0.000081  0.000534  0.001028  0.002813  0.000338  ...  1.208477  0.999367   \n",
       "2  0.000053  0.000049  0.000138  0.000467  0.000483  ...  1.109570  1.015683   \n",
       "3  0.000510  0.000105  0.000018  0.001073  0.000057  ...  1.251372  1.005829   \n",
       "4  0.000005  0.000024  0.000139  0.000496  0.000232  ...  1.027750  1.006873   \n",
       "\n",
       "     m_skew  max_diff_xy  max_diff_xz  max_diff_yz   angle_x   angle_y  \\\n",
       "0 -0.214702     1.086182     0.446732     1.329102  1.582293  2.933384   \n",
       "1  0.864951     1.120316     0.296021     1.326370  1.551812  2.999282   \n",
       "2  1.837489     1.159042     0.223953     1.285355  1.507849  3.022680   \n",
       "3  1.054030     1.253891     0.403870     1.514175  1.577872  2.948316   \n",
       "4  0.354247     1.095459     0.190109     1.043152  1.515390  3.053194   \n",
       "\n",
       "    angle_z  label  \n",
       "0  1.407109      1  \n",
       "1  1.545429      1  \n",
       "2  1.570346      1  \n",
       "3  1.415369      1  \n",
       "4  1.623098      1  \n",
       "\n",
       "[5 rows x 68 columns]"
      ]
     },
     "execution_count": 76,
     "metadata": {},
     "output_type": "execute_result"
    }
   ],
   "source": [
    "ml_df = pd.merge_asof(train_features, train_labels[['UTC time', 'label']], on='UTC time')\n",
    "\n",
    "ml_df.head()"
   ]
  },
  {
   "cell_type": "markdown",
   "metadata": {},
   "source": [
    "## Model Selection\n",
    "* Choose a suitable machine learning model for this classification activity. (`RandomForest`, `DecisionTree`, `KNeighbors`, `LogisticRegression` and `SVM` models were considered)\n",
    "    * Evaluate each model using `Cross-validation` on the training data to assess its performance, focusing on metrics like `Precision`, `Recall`, and `F1-score`.\n",
    "    * In each `Cross-validation` fold, a `StratifiedKFold` approach will be used to keep classes balanced in each fold, thus avoiding an imbalanced evaluation situation."
   ]
  },
  {
   "cell_type": "code",
   "execution_count": 77,
   "metadata": {},
   "outputs": [],
   "source": [
    "# Setting up features, `X_train`, and labels, `Y_train`.\n",
    "X_train = ml_df.iloc[:,1:-1]\n",
    "Y_train = ml_df['label']"
   ]
  },
  {
   "cell_type": "markdown",
   "metadata": {},
   "source": [
    "Applying some raw ML models to the data and evaluating the results."
   ]
  },
  {
   "cell_type": "code",
   "execution_count": 103,
   "metadata": {},
   "outputs": [
    {
     "name": "stdout",
     "output_type": "stream",
     "text": [
      "\n",
      "Cross-Validation Results:\n",
      "\n",
      "                    accuracy  precision    recall  f1_score    std_f1\n",
      "RandomForest        0.751459   0.753422  0.751459  0.738311  0.043275\n",
      "SVM                 0.711207   0.718249  0.711207  0.705438  0.030863\n",
      "LogisticRegression  0.652468   0.688148  0.652468  0.655750  0.033231\n",
      "KNeighbors          0.630919   0.670276  0.630919  0.635837  0.046112\n",
      "DecisionTree        0.507964   0.525079  0.507964  0.511231  0.039010\n"
     ]
    }
   ],
   "source": [
    "random_seed = 1  # Set the random seed\n",
    "splits = 5  # Set number of dataset splits for the StratifiedKFold\n",
    "\n",
    "# Handling class imbalance by calculating class weights based on the overall distribution\n",
    "classes = np.unique(Y_train)\n",
    "class_weights = compute_class_weight(class_weight='balanced', classes=classes, y=Y_train)\n",
    "class_weight_dict = {classes[i]: class_weights[i] for i in range(len(classes))}\n",
    "\n",
    "# Defining the models to compare\n",
    "models = {\n",
    "    'RandomForest': RandomForestClassifier(class_weight=class_weight_dict, random_state=random_seed),\n",
    "    'DecisionTree': DecisionTreeClassifier(class_weight=class_weight_dict, random_state=random_seed),\n",
    "    'KNeighbors': KNeighborsClassifier(),  # KNeighbors doesn't support class_weight, so no change here\n",
    "    'LogisticRegression': LogisticRegression(max_iter=1000, class_weight='balanced', random_state=random_seed),\n",
    "    'SVM': SVC(class_weight='balanced', random_state=random_seed)\n",
    "}\n",
    "\n",
    "# Initializing a dictionary to store cross-validation results\n",
    "cv_results = {}\n",
    "\n",
    "# Use StratifiedKFold to handle class imbalance during cross-validation\n",
    "skf = StratifiedKFold(n_splits=splits, shuffle=True, random_state=random_seed)\n",
    "\n",
    "# Defining scoring metrics\n",
    "scoring_metrics = {\n",
    "    'accuracy': 'accuracy',\n",
    "    'precision': make_scorer(precision_score, average='weighted'),\n",
    "    'recall': make_scorer(recall_score, average='weighted'),\n",
    "    'f1_score': make_scorer(f1_score, average='weighted')\n",
    "}\n",
    "\n",
    "# Evaluating each model using cross-validation\n",
    "for model_name, model in models.items():\n",
    "    # Creating a pipeline to handle SMOTE, standardize the data, and train the model\n",
    "    pipeline = ImbPipeline([\n",
    "        ('smote', SMOTE(random_state=random_seed)),  # Apply SMOTE to handle class imbalance\n",
    "        ('scaler', MaxAbsScaler()),  # Standardizing the features\n",
    "        ('classifier', model)\n",
    "    ])\n",
    "    \n",
    "    try:\n",
    "        # Performing cross-validation with multiple metrics\n",
    "        cv_results_dict = cross_validate(\n",
    "            pipeline, X_train, Y_train, cv=skf, scoring=scoring_metrics, return_train_score=False\n",
    "        )\n",
    "        # Summarizing the results\n",
    "        summary = {metric: np.mean(cv_results_dict[f'test_{metric}']) for metric in scoring_metrics.keys()}\n",
    "        summary['std_f1'] = np.std(cv_results_dict['test_f1_score'])  # Standard deviation for F1 score\n",
    "        cv_results[model_name] = summary\n",
    "    except ValueError as e:\n",
    "        print(f'Error with {model_name}: {e}')\n",
    "\n",
    "# Summarizing the results in a DataFrame\n",
    "cv_results_df = pd.DataFrame(cv_results).T  # Transposing for better readability\n",
    "print('\\nCross-Validation Results:\\n')\n",
    "print(cv_results_df.sort_values(by='f1_score', ascending=False))"
   ]
  },
  {
   "cell_type": "markdown",
   "metadata": {},
   "source": [
    "Since the model contains 4 possible classifications and there is evident class imbalance, the evaluation focused primarily on the `F1-score` metric.\n",
    "\n",
    "Using the `F1-score`, along with `Precision` and `Recall`, ensures the model can recognize each activity accurately, rather than just guessing the most likely class, which would artificially inflate accuracy.\n",
    "\n",
    "Another important factor was the stability of the model across folds, so the `F1 Score's standard Deviation` was also computed.\n",
    "\n",
    "Ultimately, `RandomForest` was chosen due to far superior `Precision`, `Recall` and `F1-score` results. Even though is is the second less stable option, I'm hopping this can be addressed with appropriate model parameterization."
   ]
  },
  {
   "cell_type": "markdown",
   "metadata": {},
   "source": [
    "## Applying Selected Model\n",
    "\n",
    "- Defined the **Random Forest** classifier as the model to be used.\n",
    "- Created a pipeline that includes:\n",
    "  - `SMOTE (Synthetic Minority Over-sampling Technique)`: Handles class imbalance by generating synthetic samples for the minority class.\n",
    "  - `MaxAbsScaler`: Standardizes the features by scaling to the maximum absolute value.\n",
    "  - `RandomForestClassifier`: Applies the Random Forest algorithm for classification.\n",
    "- Defined a grid of hyperparameters for tuning:\n",
    "  - `rf__n_estimators`: Number of trees in the forest (values between 70 and 80).\n",
    "  - `rf__max_depth`: Maximum depth of each tree (ranging from 5 to 15, or None for unlimited depth).\n",
    "  - `rf__min_samples_split`: Minimum number of samples required to split an internal node (values between 2 and 7).\n",
    "  - `rf__min_samples_leaf`: Minimum number of samples required to be at a leaf node (values between 1 and 6).\n",
    "  - `rf__bootstrap`: Whether bootstrap samples are used when building trees (`True` or `False`).\n",
    "- Cross-Validation Strategy:\n",
    "  - Used StratifiedKFold with 5 splits to maintain the class distribution across training and validation sets, ensuring robustness to class imbalance.\n",
    "  - Applied shuffling and a fixed random seed for reproducibility.\n",
    "- Evaluated models using multiple metrics:\n",
    "  - `f1_score`: The weighted F1 score, balancing precision and recall across classes.\n",
    "  - `Precision`: The proportion of true positives among all predicted positives.\n",
    "  - `Recall`: The proportion of true positives among all actual positives.\n",
    "- Grid Search for Hyperparameter Tuning:\n",
    "  - Employed GridSearchCV to search for the best combination of hyperparameters based on cross-validation results.\n",
    "  - Set the primary refitting metric to `f1_score` to prioritize a balanced performance across all classes.\n",
    "  - Utilized all available CPU cores for efficient computation (`n_jobs=-1`).\n",
    "- Model Training:\n",
    "  - Fitted the grid search pipeline to the training data (`X_train`, `Y_train`).\n",
    "  - Identified and printed the best hyperparameters and their corresponding F1 score.\n",
    "  - Additionally, extracted the best accuracy [^1] score from the cross-validation results.\n",
    "- Using the best estimator from the grid search, predicted the labels of the test set (`X_test`).\n",
    "\n",
    "[^1]: The accuracy of the final output compared with the real labels will be the evaluation factor of the project. Therefore, keeping an eye on it can be a good indicator of the final grade."
   ]
  },
  {
   "cell_type": "code",
   "execution_count": 79,
   "metadata": {},
   "outputs": [
    {
     "data": {
      "text/html": [
       "<div>\n",
       "<style scoped>\n",
       "    .dataframe tbody tr th:only-of-type {\n",
       "        vertical-align: middle;\n",
       "    }\n",
       "\n",
       "    .dataframe tbody tr th {\n",
       "        vertical-align: top;\n",
       "    }\n",
       "\n",
       "    .dataframe thead th {\n",
       "        text-align: right;\n",
       "    }\n",
       "</style>\n",
       "<table border=\"1\" class=\"dataframe\">\n",
       "  <thead>\n",
       "    <tr style=\"text-align: right;\">\n",
       "      <th></th>\n",
       "      <th>x_psd_1</th>\n",
       "      <th>x_psd_2</th>\n",
       "      <th>x_psd_3</th>\n",
       "      <th>y_psd_1</th>\n",
       "      <th>y_psd_2</th>\n",
       "      <th>y_psd_3</th>\n",
       "      <th>z_psd_1</th>\n",
       "      <th>z_psd_2</th>\n",
       "      <th>z_psd_3</th>\n",
       "      <th>m_psd_1</th>\n",
       "      <th>...</th>\n",
       "      <th>m_min</th>\n",
       "      <th>m_max</th>\n",
       "      <th>m_median</th>\n",
       "      <th>m_skew</th>\n",
       "      <th>max_diff_xy</th>\n",
       "      <th>max_diff_xz</th>\n",
       "      <th>max_diff_yz</th>\n",
       "      <th>angle_x</th>\n",
       "      <th>angle_y</th>\n",
       "      <th>angle_z</th>\n",
       "    </tr>\n",
       "  </thead>\n",
       "  <tbody>\n",
       "    <tr>\n",
       "      <th>0</th>\n",
       "      <td>0.000823</td>\n",
       "      <td>0.004935</td>\n",
       "      <td>0.003347</td>\n",
       "      <td>0.020225</td>\n",
       "      <td>0.058517</td>\n",
       "      <td>0.052805</td>\n",
       "      <td>0.006838</td>\n",
       "      <td>0.033142</td>\n",
       "      <td>0.052343</td>\n",
       "      <td>0.006413</td>\n",
       "      <td>...</td>\n",
       "      <td>0.310324</td>\n",
       "      <td>1.513079</td>\n",
       "      <td>0.998021</td>\n",
       "      <td>-0.492858</td>\n",
       "      <td>1.615997</td>\n",
       "      <td>0.449463</td>\n",
       "      <td>1.662079</td>\n",
       "      <td>1.360821</td>\n",
       "      <td>2.637590</td>\n",
       "      <td>1.376894</td>\n",
       "    </tr>\n",
       "    <tr>\n",
       "      <th>1</th>\n",
       "      <td>0.000021</td>\n",
       "      <td>0.009860</td>\n",
       "      <td>0.006930</td>\n",
       "      <td>0.005523</td>\n",
       "      <td>0.056551</td>\n",
       "      <td>0.163323</td>\n",
       "      <td>0.003126</td>\n",
       "      <td>0.007147</td>\n",
       "      <td>0.009141</td>\n",
       "      <td>0.003200</td>\n",
       "      <td>...</td>\n",
       "      <td>0.313128</td>\n",
       "      <td>2.702354</td>\n",
       "      <td>1.129805</td>\n",
       "      <td>1.182859</td>\n",
       "      <td>3.378860</td>\n",
       "      <td>0.426437</td>\n",
       "      <td>3.221329</td>\n",
       "      <td>1.258775</td>\n",
       "      <td>2.720720</td>\n",
       "      <td>1.414169</td>\n",
       "    </tr>\n",
       "    <tr>\n",
       "      <th>2</th>\n",
       "      <td>0.001994</td>\n",
       "      <td>0.003747</td>\n",
       "      <td>0.002440</td>\n",
       "      <td>0.003762</td>\n",
       "      <td>0.078593</td>\n",
       "      <td>0.028232</td>\n",
       "      <td>0.007846</td>\n",
       "      <td>0.029174</td>\n",
       "      <td>0.026443</td>\n",
       "      <td>0.003951</td>\n",
       "      <td>...</td>\n",
       "      <td>0.291176</td>\n",
       "      <td>1.323708</td>\n",
       "      <td>1.125658</td>\n",
       "      <td>-0.999899</td>\n",
       "      <td>1.568527</td>\n",
       "      <td>0.514420</td>\n",
       "      <td>1.610245</td>\n",
       "      <td>1.300149</td>\n",
       "      <td>2.709179</td>\n",
       "      <td>1.459620</td>\n",
       "    </tr>\n",
       "    <tr>\n",
       "      <th>3</th>\n",
       "      <td>0.000793</td>\n",
       "      <td>0.003299</td>\n",
       "      <td>0.006675</td>\n",
       "      <td>0.003942</td>\n",
       "      <td>0.019916</td>\n",
       "      <td>0.013523</td>\n",
       "      <td>0.000519</td>\n",
       "      <td>0.005233</td>\n",
       "      <td>0.001593</td>\n",
       "      <td>0.002532</td>\n",
       "      <td>...</td>\n",
       "      <td>0.616964</td>\n",
       "      <td>1.380144</td>\n",
       "      <td>1.149813</td>\n",
       "      <td>-0.487477</td>\n",
       "      <td>1.754486</td>\n",
       "      <td>0.363510</td>\n",
       "      <td>1.446030</td>\n",
       "      <td>1.320018</td>\n",
       "      <td>2.798871</td>\n",
       "      <td>1.475492</td>\n",
       "    </tr>\n",
       "    <tr>\n",
       "      <th>4</th>\n",
       "      <td>0.000253</td>\n",
       "      <td>0.005258</td>\n",
       "      <td>0.014293</td>\n",
       "      <td>0.007653</td>\n",
       "      <td>0.003991</td>\n",
       "      <td>0.006167</td>\n",
       "      <td>0.005583</td>\n",
       "      <td>0.075776</td>\n",
       "      <td>0.018777</td>\n",
       "      <td>0.000753</td>\n",
       "      <td>...</td>\n",
       "      <td>0.355175</td>\n",
       "      <td>2.161288</td>\n",
       "      <td>0.989397</td>\n",
       "      <td>1.030122</td>\n",
       "      <td>1.783722</td>\n",
       "      <td>2.338074</td>\n",
       "      <td>2.863022</td>\n",
       "      <td>1.333437</td>\n",
       "      <td>2.492342</td>\n",
       "      <td>1.330338</td>\n",
       "    </tr>\n",
       "  </tbody>\n",
       "</table>\n",
       "<p>5 rows × 66 columns</p>\n",
       "</div>"
      ],
      "text/plain": [
       "    x_psd_1   x_psd_2   x_psd_3   y_psd_1   y_psd_2   y_psd_3   z_psd_1  \\\n",
       "0  0.000823  0.004935  0.003347  0.020225  0.058517  0.052805  0.006838   \n",
       "1  0.000021  0.009860  0.006930  0.005523  0.056551  0.163323  0.003126   \n",
       "2  0.001994  0.003747  0.002440  0.003762  0.078593  0.028232  0.007846   \n",
       "3  0.000793  0.003299  0.006675  0.003942  0.019916  0.013523  0.000519   \n",
       "4  0.000253  0.005258  0.014293  0.007653  0.003991  0.006167  0.005583   \n",
       "\n",
       "    z_psd_2   z_psd_3   m_psd_1  ...     m_min     m_max  m_median    m_skew  \\\n",
       "0  0.033142  0.052343  0.006413  ...  0.310324  1.513079  0.998021 -0.492858   \n",
       "1  0.007147  0.009141  0.003200  ...  0.313128  2.702354  1.129805  1.182859   \n",
       "2  0.029174  0.026443  0.003951  ...  0.291176  1.323708  1.125658 -0.999899   \n",
       "3  0.005233  0.001593  0.002532  ...  0.616964  1.380144  1.149813 -0.487477   \n",
       "4  0.075776  0.018777  0.000753  ...  0.355175  2.161288  0.989397  1.030122   \n",
       "\n",
       "   max_diff_xy  max_diff_xz  max_diff_yz   angle_x   angle_y   angle_z  \n",
       "0     1.615997     0.449463     1.662079  1.360821  2.637590  1.376894  \n",
       "1     3.378860     0.426437     3.221329  1.258775  2.720720  1.414169  \n",
       "2     1.568527     0.514420     1.610245  1.300149  2.709179  1.459620  \n",
       "3     1.754486     0.363510     1.446030  1.320018  2.798871  1.475492  \n",
       "4     1.783722     2.338074     2.863022  1.333437  2.492342  1.330338  \n",
       "\n",
       "[5 rows x 66 columns]"
      ]
     },
     "execution_count": 79,
     "metadata": {},
     "output_type": "execute_result"
    }
   ],
   "source": [
    "# Setting up test df's features, `X_test`. Removing the first column 'UTC time' as it isn'd necessary for the model.\n",
    "X_test = test_features.iloc[:, 1:]\n",
    "\n",
    "X_test.head()"
   ]
  },
  {
   "cell_type": "code",
   "execution_count": 117,
   "metadata": {},
   "outputs": [
    {
     "name": "stdout",
     "output_type": "stream",
     "text": [
      "Fitting 5 folds for each of 288 candidates, totalling 1440 fits\n",
      "Best Parameters: {'rf__bootstrap': True, 'rf__max_depth': 5, 'rf__min_samples_leaf': 2, 'rf__min_samples_split': 5, 'rf__n_estimators': 75}\n",
      "Best F1 Score: 0.7535226004726546\n",
      "Best Precision: 0.7564996697949474\n",
      "Best Recall: 0.7593873873873873\n",
      "Best Accuracy: 0.7593873873873873\n"
     ]
    }
   ],
   "source": [
    "# Define the RandomForest model\n",
    "rf_model = RandomForestClassifier(random_state=random_seed)\n",
    "\n",
    "# Define a pipeline to apply SMOTE, standardize the data and then apply RandomForest\n",
    "pipeline = ImbPipeline([\n",
    "    ('smote', SMOTE(random_state=random_seed)),  # SMOTE to handle class imbalance\n",
    "    ('scaler', MaxAbsScaler()),  # Standardize the features\n",
    "    ('rf', rf_model)  # RandomForest model\n",
    "])\n",
    "\n",
    "# Define the hyperparameter grid for RandomForest\n",
    "param_grid = {\n",
    "    'rf__n_estimators': [70, 75, 80],  # Number of trees in the forest\n",
    "    'rf__max_depth': [None, 5, 10, 15],  # Maximum depth of the trees\n",
    "    'rf__min_samples_split': [2, 5, 7],  # Minimum number of samples required to split an internal node\n",
    "    'rf__min_samples_leaf': [1, 2, 4, 6],  # Minimum number of samples required to be at a leaf node\n",
    "    'rf__bootstrap': [True, False],  # Whether bootstrap samples are used\n",
    "}\n",
    "\n",
    "# Use StratifiedKFold to handle the imbalance during cross-validation\n",
    "cv = StratifiedKFold(n_splits=splits, shuffle=True, random_state=random_seed)\n",
    "\n",
    "# Define scoring metrics to evaluate\n",
    "scoring = {\n",
    "    'precision': make_scorer(precision_score, average='weighted'),\n",
    "    'recall': make_scorer(recall_score, average='weighted'),\n",
    "    'f1_score': make_scorer(f1_score, average='weighted'),\n",
    "    'accuracy': make_scorer(accuracy_score)\n",
    "}\n",
    "\n",
    "# Perform Grid Search with cross-validation\n",
    "grid_search = GridSearchCV(\n",
    "    estimator=pipeline,\n",
    "    param_grid=param_grid,\n",
    "    cv=cv,\n",
    "    scoring=scoring,\n",
    "    refit='f1_score',  # Refitting based on the F1-score\n",
    "    verbose=2,\n",
    "    n_jobs=-1  # Use all available cores\n",
    ")\n",
    "\n",
    "# Fit the Grid Search to the training data\n",
    "grid_search.fit(X_train, Y_train)\n",
    "\n",
    "# Print the best parameters and the corresponding F1 score\n",
    "print(\"Best Parameters:\", grid_search.best_params_)\n",
    "print(\"Best F1 Score:\", grid_search.best_score_)\n",
    "\n",
    "# Extract and print the best accuracy score\n",
    "best_index = grid_search.best_index_  # Index of the best combination\n",
    "best_precision = grid_search.cv_results_['mean_test_precision'][best_index]\n",
    "best_recall = grid_search.cv_results_['mean_test_recall'][best_index]\n",
    "best_accuracy = grid_search.cv_results_['mean_test_accuracy'][best_index]\n",
    "print(\"Best Precision:\", best_precision)\n",
    "print(\"Best Recall:\", best_recall)\n",
    "print(\"Best Accuracy:\", best_accuracy)\n",
    "\n",
    "# Evaluate the best model on the test set\n",
    "best_rf_model = grid_search.best_estimator_\n",
    "Y_pred = best_rf_model.predict(X_test)"
   ]
  },
  {
   "cell_type": "markdown",
   "metadata": {},
   "source": [
    "Printing the Confusion Matrix to better evaluate the final model metrics."
   ]
  },
  {
   "cell_type": "code",
   "execution_count": 119,
   "metadata": {},
   "outputs": [
    {
     "data": {
      "image/png": "[encoded data removed]",
      "text/plain": [
       "<Figure size 640x480 with 2 Axes>"
      ]
     },
     "metadata": {},
     "output_type": "display_data"
    }
   ],
   "source": [
    "# Mapping for activity labels\n",
    "activity_labels = ['Standing', 'Walking', 'Stairs Down', 'Stairs Up']\n",
    "\n",
    "# Use cross-validated predictions on the training set with the best RandomForest model\n",
    "Y_pred_cv = cross_val_predict(best_rf_model, X_train, Y_train, cv=cv)\n",
    "\n",
    "# Compute the confusion matrix\n",
    "cm = confusion_matrix(Y_train, Y_pred_cv)\n",
    "\n",
    "# Display the confusion matrix with activity names\n",
    "ConfusionMatrixDisplay(confusion_matrix=cm, display_labels=activity_labels).plot()\n",
    "plt.title(\"Confusion Matrix (Cross-Validation)\")\n",
    "plt.show()"
   ]
  },
  {
   "cell_type": "markdown",
   "metadata": {},
   "source": [
    "Printing the ROC curve to visualize how the model compares to randm guessing."
   ]
  },
  {
   "cell_type": "code",
   "execution_count": 118,
   "metadata": {},
   "outputs": [
    {
     "data": {
      "image/png": "[encoded data removed]",
      "text/plain": [
       "<Figure size 640x480 with 1 Axes>"
      ]
     },
     "metadata": {},
     "output_type": "display_data"
    }
   ],
   "source": [
    "# Binarize the output for multiclass ROC curve\n",
    "Y_train_bin = label_binarize(Y_train, classes=[1, 2, 3, 4])\n",
    "\n",
    "# Fit OneVsRestClassifier with cross-validation predictions using RandomForest\n",
    "ovr_classifier = OneVsRestClassifier(best_rf_model)\n",
    "Y_pred_prob_cv = cross_val_predict(ovr_classifier, X_train, Y_train, cv=cv, method=\"predict_proba\")\n",
    "\n",
    "# Plot ROC curves for each class\n",
    "fpr = dict()\n",
    "tpr = dict()\n",
    "roc_auc = dict()\n",
    "n_classes = Y_train_bin.shape[1]\n",
    "\n",
    "for i in range(n_classes):\n",
    "    fpr[i], tpr[i], _ = roc_curve(Y_train_bin[:, i], Y_pred_prob_cv[:, i])\n",
    "    roc_auc[i] = auc(fpr[i], tpr[i])\n",
    "\n",
    "# Plot ROC curves with activity names\n",
    "plt.figure()\n",
    "for i, label in enumerate(activity_labels):\n",
    "    plt.plot(fpr[i], tpr[i], label=f'{label} (AUC = {roc_auc[i]:.2f})')\n",
    "\n",
    "plt.plot([0, 1], [0, 1], 'k--', lw=2)\n",
    "plt.xlim([0.0, 1.0])\n",
    "plt.ylim([0.0, 1.05])\n",
    "plt.xlabel('False Positive Rate')\n",
    "plt.ylabel('True Positive Rate')\n",
    "plt.title('Receiver Operating Characteristic (ROC) Curves (Cross-Validation)')\n",
    "plt.legend(loc=\"lower right\")\n",
    "plt.show()"
   ]
  },
  {
   "cell_type": "markdown",
   "metadata": {},
   "source": [
    "# Results\n",
    "\n",
    "<h4>Model Performance</h4>\n",
    "\n",
    "- **Cross-Validation**: The Random Forest model was evaluated using 5-fold cross-validation with stratified splits to manage class imbalance.\n",
    "- **Best Model Parameters**: After hyperparameter tuning using GridSearchCV, the best model parameters for Random Forest were identified as:\n",
    "  - `rf__bootstrap`: True\n",
    "  - `rf__max_depth`: 5\n",
    "  - `rf__min_samples_leaf`: 2\n",
    "  - `rf__min_samples_split`: 5\n",
    "  - `rf__n_estimators`: 75\n",
    "- **Test Set Evaluation**:\n",
    "  - The optimized Random Forest model was evaluated on the test set, achieving the following metrics:\n",
    "    - `F1 Score`: 0.7535\n",
    "    - `Precision`: 0.7565\n",
    "    - `Recall`: 0.7594\n",
    "    - `Accuracy`: 0.7594\n",
    "- **Confusion Matrix and ROC curve**:\n",
    "  - `Confusion Matrix`: Briefly, looking at the confusion matrix, it's clear that the model has some difficulty distinguishing between the stair movements, both from each other and from walking. However, it’s evident that it still attempts to classify all classes without a clear bias toward the most frequent class (Walking). The model struggles the most with the Stairs Up activity, which is understandable given its similarity to the other movement activities and its lower frequency in the dataset. Standing, while the least common class, is distinctly different from the others, which poses no problem for the model in correctly identifying it.\n",
    "  - `ROC curve`: Briefly, all curves are well above the random guessing line, indicating that the model effectively distinguishes each activity class, including the minority ones. This suggests a balanced performance across classes, with better-than-naive recognition even in the presence of class imbalance.\n",
    "\n",
    "In sum, despite having some difficulties distinguishing between some more similar classes, and not showing an outstanding performance, the model reflects a relatively fair judgment of all classes. The consistency of all the metrics, alongside with the confusion matrix and ROC curves, show a clear effort in making a distinction between activities without favoring most frequent classes to artificially increase accuracy.\n",
    "\n",
    "<h4>Model Tuning and Performance Gain</h4>\n",
    "\n",
    "- **Initial Model Selection**: Initially, multiple models were considered, including Random Forest, Decision Tree, K-Nearest Neighbors, Logistic Regression, and Support Vector Machine.\n",
    "  - Random Forest was chosen due to its substancially better performance compared with the other models.\n",
    "- **Hyperparameter Tuning**: Although hyperparameter tuning aimed to optimize the model, the performance gain from the initial selection to the final tuned model was lacking.\n",
    "  - All parameters only improved slightly, indicating that the model was possibly at a limit, improvement wise.\n",
    "  - To address this minimal gain, I would propose to continue an analysis in three fronts:\n",
    "      - **Explainability of the Model**: Since RandomForest models can be hard to interpret, adding explainability techniques like `SHAP` or `feature importance plots` could provide more insight into which features are driving predictions. This could help refine the feature extraction process and provide deeper insights into the data.\n",
    "      - **Feature Engineering Depth**: Adding more domain-specific features or further analysis of the frequency domain (such as identifying key frequency bands, energy-related features or making vertical acceleration an explicit feature) could improve the separability between similar activities, such as \"walking\" and \"stairs down.\".\n",
    "      - **Imbalance Handling**: Advanced methods such as `adaptive resampling techniques` or `cost-sensitive learning`, which penalizes the model more for misclassifying minority classes, could be worth exploring.\n",
    "\n",
    "---"
   ]
  },
  {
   "cell_type": "markdown",
   "metadata": {},
   "source": [
    "## Storing prediction results\n",
    "\n",
    "Adding the predicted activities to a new version of the `test_labels.csv` file."
   ]
  },
  {
   "cell_type": "code",
   "execution_count": 188,
   "metadata": {},
   "outputs": [
    {
     "data": {
      "text/plain": [
       "array([2, 3, 4, 4, 4, 2, 4, 4, 2, 4, 4, 3, 3, 4, 2, 4, 4, 4, 4, 3, 3, 4,\n",
       "       2, 2, 4, 4, 4, 2, 4, 3, 4, 2, 1, 4, 1, 1, 1, 1, 1, 1, 1, 1, 1, 1,\n",
       "       1, 1, 1, 1, 1, 1, 1, 1, 1, 4, 2, 3, 3, 3, 4, 4, 3, 4, 2, 1, 3, 3,\n",
       "       3, 4, 3, 3, 2, 2, 3, 2, 3, 4, 3, 3, 3, 2, 2, 4, 2, 3, 3, 3, 2, 3,\n",
       "       2, 2, 2, 2, 2, 3, 2, 2, 2, 2, 2, 2, 2, 3, 2, 2, 2, 2, 2, 2, 2, 2,\n",
       "       2, 2, 2, 2, 2, 2, 2, 4, 2, 2, 2, 2, 2, 2, 2], dtype=int64)"
      ]
     },
     "execution_count": 188,
     "metadata": {},
     "output_type": "execute_result"
    }
   ],
   "source": [
    "# Display raw results.\n",
    "Y_pred"
   ]
  },
  {
   "cell_type": "code",
   "execution_count": 189,
   "metadata": {},
   "outputs": [
    {
     "name": "stdout",
     "output_type": "stream",
     "text": [
      "Updated test_labels.csv with predictions saved as 'test_labels_updated.csv'.\n"
     ]
    }
   ],
   "source": [
    "# Ensure Y_pred is the same length as test_labels\n",
    "if len(Y_pred) != len(test_labels):\n",
    "    raise ValueError(\"The length of Y_pred does not match the number of rows in test_labels.\")\n",
    "else:\n",
    "    test_labels['label'] = Y_pred\n",
    "\n",
    "# Save the updated DataFrame to a new CSV file\n",
    "test_labels.to_csv('test_labels_updated.csv', index=False)\n",
    "\n",
    "print(\"Updated test_labels.csv with predictions saved as 'test_labels_updated.csv'.\")"
   ]
  },
  {
   "cell_type": "markdown",
   "metadata": {},
   "source": [
    "## Performance Measurement\n",
    "\n",
    "Ends the timer and displays the notebook's total running time."
   ]
  },
  {
   "cell_type": "code",
   "execution_count": 190,
   "metadata": {},
   "outputs": [],
   "source": [
    "# Stopping the timer and calculating total runtime\n",
    "end_time = time.time()\n",
    "runtime = end_time - start_time"
   ]
  },
  {
   "cell_type": "code",
   "execution_count": 191,
   "metadata": {},
   "outputs": [
    {
     "name": "stdout",
     "output_type": "stream",
     "text": [
      "Total runtime: 76.48149275779724 s\n"
     ]
    }
   ],
   "source": [
    "# Displaying total runtime\n",
    "print(f\"Total runtime: {runtime} s\")"
   ]
  },
  {
   "cell_type": "markdown",
   "metadata": {},
   "source": [
    "# Conclusions\n",
    "\n",
    "This project aimed to develop a machine learning model for classifying accelerometer data into four activity categories: Standing, Walking, Stairs Down, and Stairs Up. After evaluating multiple models—including Random Forest, Decision Tree, K-Nearest Neighbors, Logistic Regression, and Support Vector Machine (SVM)—Random Forest was ultimately selected due to its superior F1 score and balanced performance across the activity classes, despite slight class imbalance.\n",
    "\n",
    "### Summary of Findings\n",
    "\n",
    "- **Model Performance**: The final Random Forest model, optimized through hyperparameter tuning, achieved a balanced F1 Score, Precision, and Recall, showing that the model performs fairly across all activity classes. This was further confirmed by the confusion matrix, which highlighted some difficulty distinguishing between similar activities, such as stairs up vs. stairs down, but minimal bias toward the more frequent activities.\n",
    "  \n",
    "- **Feature Extraction and Tuning**: Through feature extraction techniques, including Fourier Transform and statistical feature calculations, meaningful features were derived from the raw accelerometer data. Grid Search was used for hyperparameter tuning, yielding slight but consistent improvements in all key performance metrics. This suggests that while the current feature set and tuning strategy yield robust results, further optimization may be required for notable performance gains.\n",
    "\n",
    "- **Class Imbalance Handling**: Incorporating SMOTE for oversampling the minority classes successfully mitigated class imbalance effects, enabling the model to achieve better recall for less frequent activities like standing and stairs up. This approach was beneficial but could be further improved with advanced imbalance handling methods to target the more challenging classes.\n",
    "\n",
    "### Future Directions\n",
    "\n",
    "1. **Explainability of the Model**: Adding interpretability techniques like SHAP values or feature importance analysis could offer insights into which features most significantly impact the predictions. This information could inform further improvements in feature engineering.\n",
    "  \n",
    "2. **Feature Engineering Depth**: To enhance model accuracy, additional domain-specific features could be considered. For example, focusing on key frequency bands, energy metrics, or vertical acceleration could help distinguish more nuanced activity differences.\n",
    "  \n",
    "3. **Advanced Imbalance Handling**: Methods such as adaptive resampling or cost-sensitive learning could improve the model's performance on minority classes, potentially addressing the misclassifications observed between similar activity classes.\n",
    "\n",
    "### Conclusion\n",
    "\n",
    "The Random Forest model demonstrated reliable performance across the four activity categories, capturing underlying patterns in accelerometer data and distinguishing activities with a fair degree of accuracy. The balanced metrics and model behavior suggest that the chosen approach is effective, though there is room for refinement, particularly in feature extraction and imbalance handling. Future work focusing on these areas could further enhance model performance, paving the way for a more precise and reliable activity classification tool."
   ]
  }
 ],
 "metadata": {
  "kernelspec": {
   "display_name": "Python 3",
   "language": "python",
   "name": "python3"
  },
  "language_info": {
   "codemirror_mode": {
    "name": "ipython",
    "version": 3
   },
   "file_extension": ".py",
   "mimetype": "text/x-python",
   "name": "python",
   "nbconvert_exporter": "python",
   "pygments_lexer": "ipython3",
   "version": "3.12.3"
  }
 },
 "nbformat": 4,
 "nbformat_minor": 2
}
